{
  "metadata": {
    "kernelspec": {
      "language": "python",
      "display_name": "Python 3",
      "name": "python3"
    },
    "language_info": {
      "name": "python",
      "version": "3.10.13",
      "mimetype": "text/x-python",
      "codemirror_mode": {
        "name": "ipython",
        "version": 3
      },
      "pygments_lexer": "ipython3",
      "nbconvert_exporter": "python",
      "file_extension": ".py"
    },
    "kaggle": {
      "accelerator": "none",
      "dataSources": [
        {
          "sourceId": 2724653,
          "sourceType": "datasetVersion",
          "datasetId": 1660669
        }
      ],
      "dockerImageVersionId": 30746,
      "isInternetEnabled": false,
      "language": "python",
      "sourceType": "notebook",
      "isGpuEnabled": false
    },
    "colab": {
      "provenance": [],
      "toc_visible": true,
      "include_colab_link": true
    }
  },
  "nbformat_minor": 0,
  "nbformat": 4,
  "cells": [
    {
      "cell_type": "markdown",
      "metadata": {
        "id": "view-in-github",
        "colab_type": "text"
      },
      "source": [
        "<a href=\"https://colab.research.google.com/github/Kaustavee/CodeAlpha_project_KaustaveeGhosh/blob/main/A_B_Testing_Ad1_.ipynb\" target=\"_parent\"><img src=\"https://colab.research.google.com/assets/colab-badge.svg\" alt=\"Open In Colab\"/></a>"
      ]
    },
    {
      "source": [
        "\n",
        "# IMPORTANT: RUN THIS CELL IN ORDER TO IMPORT YOUR KAGGLE DATA SOURCES\n",
        "# TO THE CORRECT LOCATION (/kaggle/input) IN YOUR NOTEBOOK,\n",
        "# THEN FEEL FREE TO DELETE THIS CELL.\n",
        "# NOTE: THIS NOTEBOOK ENVIRONMENT DIFFERS FROM KAGGLE'S PYTHON\n",
        "# ENVIRONMENT SO THERE MAY BE MISSING LIBRARIES USED BY YOUR\n",
        "# NOTEBOOK.\n",
        "\n",
        "import os\n",
        "import sys\n",
        "from tempfile import NamedTemporaryFile\n",
        "from urllib.request import urlopen\n",
        "from urllib.parse import unquote, urlparse\n",
        "from urllib.error import HTTPError\n",
        "from zipfile import ZipFile\n",
        "import tarfile\n",
        "import shutil\n",
        "\n",
        "CHUNK_SIZE = 40960\n",
        "DATA_SOURCE_MAPPING = 'marketing-ab-testing:https%3A%2F%2Fstorage.googleapis.com%2Fkaggle-data-sets%2F1660669%2F2724653%2Fbundle%2Farchive.zip%3FX-Goog-Algorithm%3DGOOG4-RSA-SHA256%26X-Goog-Credential%3Dgcp-kaggle-com%2540kaggle-161607.iam.gserviceaccount.com%252F20240821%252Fauto%252Fstorage%252Fgoog4_request%26X-Goog-Date%3D20240821T012409Z%26X-Goog-Expires%3D259200%26X-Goog-SignedHeaders%3Dhost%26X-Goog-Signature%3D551cb7f6e8b4f513b3c5bf3e1154f34c4437fc4343344a72adb57d8326c27855a3866b7af9c09745b1b5b6d2258a95d83cdae73b3dfbb06f181d0106504647e9cf753fd907af9987cf1cec297674c50dff58c2cecb44f768a9ecfb9de57fad1db454acdddb5327e8fd6e49320e220d69aba7b1d93861027a2fed2acb57aebc8556f0933be8b4554d1b44e5d8b13d5d9f8b06a9ceb2fec3077cc516642dd0ae05ed096ab1a58ead88af0235774b4fe09b40ae34f6ee78934facd1d4caed6196cbb452f84546714092afd7b019472e2a743a8fe6370f51c3dd3ab5d5397effdc8f888863d3ff78a48b7b170f172e6128e528484ece18e4227cdf3b65dbb55ba244'\n",
        "\n",
        "KAGGLE_INPUT_PATH='/kaggle/input'\n",
        "KAGGLE_WORKING_PATH='/kaggle/working'\n",
        "KAGGLE_SYMLINK='kaggle'\n",
        "\n",
        "!umount /kaggle/input/ 2> /dev/null\n",
        "shutil.rmtree('/kaggle/input', ignore_errors=True)\n",
        "os.makedirs(KAGGLE_INPUT_PATH, 0o777, exist_ok=True)\n",
        "os.makedirs(KAGGLE_WORKING_PATH, 0o777, exist_ok=True)\n",
        "\n",
        "try:\n",
        "  os.symlink(KAGGLE_INPUT_PATH, os.path.join(\"..\", 'input'), target_is_directory=True)\n",
        "except FileExistsError:\n",
        "  pass\n",
        "try:\n",
        "  os.symlink(KAGGLE_WORKING_PATH, os.path.join(\"..\", 'working'), target_is_directory=True)\n",
        "except FileExistsError:\n",
        "  pass\n",
        "\n",
        "for data_source_mapping in DATA_SOURCE_MAPPING.split(','):\n",
        "    directory, download_url_encoded = data_source_mapping.split(':')\n",
        "    download_url = unquote(download_url_encoded)\n",
        "    filename = urlparse(download_url).path\n",
        "    destination_path = os.path.join(KAGGLE_INPUT_PATH, directory)\n",
        "    try:\n",
        "        with urlopen(download_url) as fileres, NamedTemporaryFile() as tfile:\n",
        "            total_length = fileres.headers['content-length']\n",
        "            print(f'Downloading {directory}, {total_length} bytes compressed')\n",
        "            dl = 0\n",
        "            data = fileres.read(CHUNK_SIZE)\n",
        "            while len(data) > 0:\n",
        "                dl += len(data)\n",
        "                tfile.write(data)\n",
        "                done = int(50 * dl / int(total_length))\n",
        "                sys.stdout.write(f\"\\r[{'=' * done}{' ' * (50-done)}] {dl} bytes downloaded\")\n",
        "                sys.stdout.flush()\n",
        "                data = fileres.read(CHUNK_SIZE)\n",
        "            if filename.endswith('.zip'):\n",
        "              with ZipFile(tfile) as zfile:\n",
        "                zfile.extractall(destination_path)\n",
        "            else:\n",
        "              with tarfile.open(tfile.name) as tarfile:\n",
        "                tarfile.extractall(destination_path)\n",
        "            print(f'\\nDownloaded and uncompressed: {directory}')\n",
        "    except HTTPError as e:\n",
        "        print(f'Failed to load (likely expired) {download_url} to path {destination_path}')\n",
        "        continue\n",
        "    except OSError as e:\n",
        "        print(f'Failed to load {download_url} to path {destination_path}')\n",
        "        continue\n",
        "\n",
        "print('Data source import complete.')\n"
      ],
      "metadata": {
        "id": "IwIoerjTh62X",
        "colab": {
          "base_uri": "https://localhost:8080/"
        },
        "outputId": "0a89bac6-7e63-449f-b91e-eae838214649"
      },
      "cell_type": "code",
      "outputs": [
        {
          "output_type": "stream",
          "name": "stdout",
          "text": [
            "Downloading marketing-ab-testing, 5488727 bytes compressed\n",
            "[==================================================] 5488727 bytes downloaded\n",
            "Downloaded and uncompressed: marketing-ab-testing\n",
            "Data source import complete.\n"
          ]
        }
      ],
      "execution_count": 1
    },
    {
      "cell_type": "code",
      "source": [
        "# This Python 3 environment comes with many helpful analytics libraries installed\n",
        "# It is defined by the kaggle/python Docker image: https://github.com/kaggle/docker-python\n",
        "# For example, here's several helpful packages to load\n",
        "\n",
        "import numpy as np # linear algebra\n",
        "import pandas as pd # data processing, CSV file I/O (e.g. pd.read_csv)\n",
        "\n",
        "# Input data files are available in the read-only \"../input/\" directory\n",
        "# For example, running this (by clicking run or pressing Shift+Enter) will list all files under the input directory\n",
        "\n",
        "import os\n",
        "for dirname, _, filenames in os.walk('/kaggle/input'):\n",
        "    for filename in filenames:\n",
        "        print(os.path.join(dirname, filename))\n",
        "\n",
        "# You can write up to 20GB to the current directory (/kaggle/working/) that gets preserved as output when you create a version using \"Save & Run All\"\n",
        "# You can also write temporary files to /kaggle/temp/, but they won't be saved outside of the current session"
      ],
      "metadata": {
        "_uuid": "8f2839f25d086af736a60e9eeb907d3b93b6e0e5",
        "_cell_guid": "b1076dfc-b9ad-4769-8c92-a6c4dae69d19",
        "trusted": true,
        "id": "Q9QYEdtHh62c",
        "colab": {
          "base_uri": "https://localhost:8080/"
        },
        "outputId": "55068fa4-1a4a-4090-aa6e-8d8630e95d70"
      },
      "execution_count": 2,
      "outputs": [
        {
          "output_type": "stream",
          "name": "stdout",
          "text": [
            "/kaggle/input/marketing-ab-testing/marketing_AB.csv\n"
          ]
        }
      ]
    },
    {
      "cell_type": "code",
      "source": [
        "import numpy as np\n",
        "import pandas as pd\n",
        "import matplotlib.pyplot as plt\n",
        "import seaborn as sns\n",
        "import warnings\n",
        "warnings.filterwarnings(\"ignore\")"
      ],
      "metadata": {
        "execution": {
          "iopub.status.busy": "2024-08-20T04:50:42.936148Z",
          "iopub.execute_input": "2024-08-20T04:50:42.936563Z",
          "iopub.status.idle": "2024-08-20T04:50:42.943151Z",
          "shell.execute_reply.started": "2024-08-20T04:50:42.936529Z",
          "shell.execute_reply": "2024-08-20T04:50:42.941603Z"
        },
        "trusted": true,
        "id": "S_HEBK91h62d"
      },
      "execution_count": 3,
      "outputs": []
    },
    {
      "cell_type": "code",
      "source": [
        "df = pd.read_csv(\"/kaggle/input/marketing-ab-testing/marketing_AB.csv\")"
      ],
      "metadata": {
        "execution": {
          "iopub.status.busy": "2024-08-20T04:51:21.50633Z",
          "iopub.execute_input": "2024-08-20T04:51:21.506754Z",
          "iopub.status.idle": "2024-08-20T04:51:22.329559Z",
          "shell.execute_reply.started": "2024-08-20T04:51:21.506719Z",
          "shell.execute_reply": "2024-08-20T04:51:22.328176Z"
        },
        "trusted": true,
        "id": "gtkXFWQVh62e",
        "collapsed": true
      },
      "execution_count": 4,
      "outputs": []
    },
    {
      "cell_type": "code",
      "source": [
        "df.head()  #initial observation of the dataset"
      ],
      "metadata": {
        "execution": {
          "iopub.status.busy": "2024-08-20T04:51:58.246237Z",
          "iopub.execute_input": "2024-08-20T04:51:58.246659Z",
          "iopub.status.idle": "2024-08-20T04:51:58.267472Z",
          "shell.execute_reply.started": "2024-08-20T04:51:58.246626Z",
          "shell.execute_reply": "2024-08-20T04:51:58.26618Z"
        },
        "trusted": true,
        "id": "Ig397fH7h62e",
        "colab": {
          "base_uri": "https://localhost:8080/",
          "height": 206
        },
        "outputId": "ea2cad5f-435b-4d78-e536-09ffda705af1"
      },
      "execution_count": 5,
      "outputs": [
        {
          "output_type": "execute_result",
          "data": {
            "text/plain": [
              "   Unnamed: 0  user id test group  converted  total ads most ads day  \\\n",
              "0           0  1069124         ad      False        130       Monday   \n",
              "1           1  1119715         ad      False         93      Tuesday   \n",
              "2           2  1144181         ad      False         21      Tuesday   \n",
              "3           3  1435133         ad      False        355      Tuesday   \n",
              "4           4  1015700         ad      False        276       Friday   \n",
              "\n",
              "   most ads hour  \n",
              "0             20  \n",
              "1             22  \n",
              "2             18  \n",
              "3             10  \n",
              "4             14  "
            ],
            "text/html": [
              "\n",
              "  <div id=\"df-f77ff208-19ed-4fdd-8cb0-fc4516f013cd\" class=\"colab-df-container\">\n",
              "    <div>\n",
              "<style scoped>\n",
              "    .dataframe tbody tr th:only-of-type {\n",
              "        vertical-align: middle;\n",
              "    }\n",
              "\n",
              "    .dataframe tbody tr th {\n",
              "        vertical-align: top;\n",
              "    }\n",
              "\n",
              "    .dataframe thead th {\n",
              "        text-align: right;\n",
              "    }\n",
              "</style>\n",
              "<table border=\"1\" class=\"dataframe\">\n",
              "  <thead>\n",
              "    <tr style=\"text-align: right;\">\n",
              "      <th></th>\n",
              "      <th>Unnamed: 0</th>\n",
              "      <th>user id</th>\n",
              "      <th>test group</th>\n",
              "      <th>converted</th>\n",
              "      <th>total ads</th>\n",
              "      <th>most ads day</th>\n",
              "      <th>most ads hour</th>\n",
              "    </tr>\n",
              "  </thead>\n",
              "  <tbody>\n",
              "    <tr>\n",
              "      <th>0</th>\n",
              "      <td>0</td>\n",
              "      <td>1069124</td>\n",
              "      <td>ad</td>\n",
              "      <td>False</td>\n",
              "      <td>130</td>\n",
              "      <td>Monday</td>\n",
              "      <td>20</td>\n",
              "    </tr>\n",
              "    <tr>\n",
              "      <th>1</th>\n",
              "      <td>1</td>\n",
              "      <td>1119715</td>\n",
              "      <td>ad</td>\n",
              "      <td>False</td>\n",
              "      <td>93</td>\n",
              "      <td>Tuesday</td>\n",
              "      <td>22</td>\n",
              "    </tr>\n",
              "    <tr>\n",
              "      <th>2</th>\n",
              "      <td>2</td>\n",
              "      <td>1144181</td>\n",
              "      <td>ad</td>\n",
              "      <td>False</td>\n",
              "      <td>21</td>\n",
              "      <td>Tuesday</td>\n",
              "      <td>18</td>\n",
              "    </tr>\n",
              "    <tr>\n",
              "      <th>3</th>\n",
              "      <td>3</td>\n",
              "      <td>1435133</td>\n",
              "      <td>ad</td>\n",
              "      <td>False</td>\n",
              "      <td>355</td>\n",
              "      <td>Tuesday</td>\n",
              "      <td>10</td>\n",
              "    </tr>\n",
              "    <tr>\n",
              "      <th>4</th>\n",
              "      <td>4</td>\n",
              "      <td>1015700</td>\n",
              "      <td>ad</td>\n",
              "      <td>False</td>\n",
              "      <td>276</td>\n",
              "      <td>Friday</td>\n",
              "      <td>14</td>\n",
              "    </tr>\n",
              "  </tbody>\n",
              "</table>\n",
              "</div>\n",
              "    <div class=\"colab-df-buttons\">\n",
              "\n",
              "  <div class=\"colab-df-container\">\n",
              "    <button class=\"colab-df-convert\" onclick=\"convertToInteractive('df-f77ff208-19ed-4fdd-8cb0-fc4516f013cd')\"\n",
              "            title=\"Convert this dataframe to an interactive table.\"\n",
              "            style=\"display:none;\">\n",
              "\n",
              "  <svg xmlns=\"http://www.w3.org/2000/svg\" height=\"24px\" viewBox=\"0 -960 960 960\">\n",
              "    <path d=\"M120-120v-720h720v720H120Zm60-500h600v-160H180v160Zm220 220h160v-160H400v160Zm0 220h160v-160H400v160ZM180-400h160v-160H180v160Zm440 0h160v-160H620v160ZM180-180h160v-160H180v160Zm440 0h160v-160H620v160Z\"/>\n",
              "  </svg>\n",
              "    </button>\n",
              "\n",
              "  <style>\n",
              "    .colab-df-container {\n",
              "      display:flex;\n",
              "      gap: 12px;\n",
              "    }\n",
              "\n",
              "    .colab-df-convert {\n",
              "      background-color: #E8F0FE;\n",
              "      border: none;\n",
              "      border-radius: 50%;\n",
              "      cursor: pointer;\n",
              "      display: none;\n",
              "      fill: #1967D2;\n",
              "      height: 32px;\n",
              "      padding: 0 0 0 0;\n",
              "      width: 32px;\n",
              "    }\n",
              "\n",
              "    .colab-df-convert:hover {\n",
              "      background-color: #E2EBFA;\n",
              "      box-shadow: 0px 1px 2px rgba(60, 64, 67, 0.3), 0px 1px 3px 1px rgba(60, 64, 67, 0.15);\n",
              "      fill: #174EA6;\n",
              "    }\n",
              "\n",
              "    .colab-df-buttons div {\n",
              "      margin-bottom: 4px;\n",
              "    }\n",
              "\n",
              "    [theme=dark] .colab-df-convert {\n",
              "      background-color: #3B4455;\n",
              "      fill: #D2E3FC;\n",
              "    }\n",
              "\n",
              "    [theme=dark] .colab-df-convert:hover {\n",
              "      background-color: #434B5C;\n",
              "      box-shadow: 0px 1px 3px 1px rgba(0, 0, 0, 0.15);\n",
              "      filter: drop-shadow(0px 1px 2px rgba(0, 0, 0, 0.3));\n",
              "      fill: #FFFFFF;\n",
              "    }\n",
              "  </style>\n",
              "\n",
              "    <script>\n",
              "      const buttonEl =\n",
              "        document.querySelector('#df-f77ff208-19ed-4fdd-8cb0-fc4516f013cd button.colab-df-convert');\n",
              "      buttonEl.style.display =\n",
              "        google.colab.kernel.accessAllowed ? 'block' : 'none';\n",
              "\n",
              "      async function convertToInteractive(key) {\n",
              "        const element = document.querySelector('#df-f77ff208-19ed-4fdd-8cb0-fc4516f013cd');\n",
              "        const dataTable =\n",
              "          await google.colab.kernel.invokeFunction('convertToInteractive',\n",
              "                                                    [key], {});\n",
              "        if (!dataTable) return;\n",
              "\n",
              "        const docLinkHtml = 'Like what you see? Visit the ' +\n",
              "          '<a target=\"_blank\" href=https://colab.research.google.com/notebooks/data_table.ipynb>data table notebook</a>'\n",
              "          + ' to learn more about interactive tables.';\n",
              "        element.innerHTML = '';\n",
              "        dataTable['output_type'] = 'display_data';\n",
              "        await google.colab.output.renderOutput(dataTable, element);\n",
              "        const docLink = document.createElement('div');\n",
              "        docLink.innerHTML = docLinkHtml;\n",
              "        element.appendChild(docLink);\n",
              "      }\n",
              "    </script>\n",
              "  </div>\n",
              "\n",
              "\n",
              "<div id=\"df-d6125e75-9904-4817-a011-ed1b98c5e228\">\n",
              "  <button class=\"colab-df-quickchart\" onclick=\"quickchart('df-d6125e75-9904-4817-a011-ed1b98c5e228')\"\n",
              "            title=\"Suggest charts\"\n",
              "            style=\"display:none;\">\n",
              "\n",
              "<svg xmlns=\"http://www.w3.org/2000/svg\" height=\"24px\"viewBox=\"0 0 24 24\"\n",
              "     width=\"24px\">\n",
              "    <g>\n",
              "        <path d=\"M19 3H5c-1.1 0-2 .9-2 2v14c0 1.1.9 2 2 2h14c1.1 0 2-.9 2-2V5c0-1.1-.9-2-2-2zM9 17H7v-7h2v7zm4 0h-2V7h2v10zm4 0h-2v-4h2v4z\"/>\n",
              "    </g>\n",
              "</svg>\n",
              "  </button>\n",
              "\n",
              "<style>\n",
              "  .colab-df-quickchart {\n",
              "      --bg-color: #E8F0FE;\n",
              "      --fill-color: #1967D2;\n",
              "      --hover-bg-color: #E2EBFA;\n",
              "      --hover-fill-color: #174EA6;\n",
              "      --disabled-fill-color: #AAA;\n",
              "      --disabled-bg-color: #DDD;\n",
              "  }\n",
              "\n",
              "  [theme=dark] .colab-df-quickchart {\n",
              "      --bg-color: #3B4455;\n",
              "      --fill-color: #D2E3FC;\n",
              "      --hover-bg-color: #434B5C;\n",
              "      --hover-fill-color: #FFFFFF;\n",
              "      --disabled-bg-color: #3B4455;\n",
              "      --disabled-fill-color: #666;\n",
              "  }\n",
              "\n",
              "  .colab-df-quickchart {\n",
              "    background-color: var(--bg-color);\n",
              "    border: none;\n",
              "    border-radius: 50%;\n",
              "    cursor: pointer;\n",
              "    display: none;\n",
              "    fill: var(--fill-color);\n",
              "    height: 32px;\n",
              "    padding: 0;\n",
              "    width: 32px;\n",
              "  }\n",
              "\n",
              "  .colab-df-quickchart:hover {\n",
              "    background-color: var(--hover-bg-color);\n",
              "    box-shadow: 0 1px 2px rgba(60, 64, 67, 0.3), 0 1px 3px 1px rgba(60, 64, 67, 0.15);\n",
              "    fill: var(--button-hover-fill-color);\n",
              "  }\n",
              "\n",
              "  .colab-df-quickchart-complete:disabled,\n",
              "  .colab-df-quickchart-complete:disabled:hover {\n",
              "    background-color: var(--disabled-bg-color);\n",
              "    fill: var(--disabled-fill-color);\n",
              "    box-shadow: none;\n",
              "  }\n",
              "\n",
              "  .colab-df-spinner {\n",
              "    border: 2px solid var(--fill-color);\n",
              "    border-color: transparent;\n",
              "    border-bottom-color: var(--fill-color);\n",
              "    animation:\n",
              "      spin 1s steps(1) infinite;\n",
              "  }\n",
              "\n",
              "  @keyframes spin {\n",
              "    0% {\n",
              "      border-color: transparent;\n",
              "      border-bottom-color: var(--fill-color);\n",
              "      border-left-color: var(--fill-color);\n",
              "    }\n",
              "    20% {\n",
              "      border-color: transparent;\n",
              "      border-left-color: var(--fill-color);\n",
              "      border-top-color: var(--fill-color);\n",
              "    }\n",
              "    30% {\n",
              "      border-color: transparent;\n",
              "      border-left-color: var(--fill-color);\n",
              "      border-top-color: var(--fill-color);\n",
              "      border-right-color: var(--fill-color);\n",
              "    }\n",
              "    40% {\n",
              "      border-color: transparent;\n",
              "      border-right-color: var(--fill-color);\n",
              "      border-top-color: var(--fill-color);\n",
              "    }\n",
              "    60% {\n",
              "      border-color: transparent;\n",
              "      border-right-color: var(--fill-color);\n",
              "    }\n",
              "    80% {\n",
              "      border-color: transparent;\n",
              "      border-right-color: var(--fill-color);\n",
              "      border-bottom-color: var(--fill-color);\n",
              "    }\n",
              "    90% {\n",
              "      border-color: transparent;\n",
              "      border-bottom-color: var(--fill-color);\n",
              "    }\n",
              "  }\n",
              "</style>\n",
              "\n",
              "  <script>\n",
              "    async function quickchart(key) {\n",
              "      const quickchartButtonEl =\n",
              "        document.querySelector('#' + key + ' button');\n",
              "      quickchartButtonEl.disabled = true;  // To prevent multiple clicks.\n",
              "      quickchartButtonEl.classList.add('colab-df-spinner');\n",
              "      try {\n",
              "        const charts = await google.colab.kernel.invokeFunction(\n",
              "            'suggestCharts', [key], {});\n",
              "      } catch (error) {\n",
              "        console.error('Error during call to suggestCharts:', error);\n",
              "      }\n",
              "      quickchartButtonEl.classList.remove('colab-df-spinner');\n",
              "      quickchartButtonEl.classList.add('colab-df-quickchart-complete');\n",
              "    }\n",
              "    (() => {\n",
              "      let quickchartButtonEl =\n",
              "        document.querySelector('#df-d6125e75-9904-4817-a011-ed1b98c5e228 button');\n",
              "      quickchartButtonEl.style.display =\n",
              "        google.colab.kernel.accessAllowed ? 'block' : 'none';\n",
              "    })();\n",
              "  </script>\n",
              "</div>\n",
              "\n",
              "    </div>\n",
              "  </div>\n"
            ],
            "application/vnd.google.colaboratory.intrinsic+json": {
              "type": "dataframe",
              "variable_name": "df"
            }
          },
          "metadata": {},
          "execution_count": 5
        }
      ]
    },
    {
      "cell_type": "markdown",
      "source": [
        "# QUESTIONS TO BE SOLVED/ENQUIRED FOR A/B TESTING\n",
        "> The companies are interested in answering two questions:\n",
        "\n",
        "Would the campaign be successful?\n",
        "If the campaign was successful, how much of that success could be attributed to the ads?"
      ],
      "metadata": {
        "id": "eI1lcHdKh62f"
      }
    },
    {
      "cell_type": "markdown",
      "source": [
        "# DATA GIVEN :-\n",
        "> Index: Row index\n",
        "\n",
        "> user id: User ID (unique)\n",
        "> test group: If \"ad\" the person saw the advertisement, if \"psa\" they only saw the public service announcement\n",
        "\n",
        "> converted: If a person bought the product then True, else is False\n",
        "\n",
        "> total ads: Amount of ads seen by person\n",
        "\n",
        "> most ads day: Day that the person saw the biggest amount of ads\n",
        "\n",
        "> most ads hour: Hour of day that the person saw the biggest amount of ads"
      ],
      "metadata": {
        "id": "0rn7ov8Uh62h"
      }
    },
    {
      "cell_type": "code",
      "source": [
        "#user id is a primary key in the relation , therefore it has to be unique, checking for duplicates in the user id field.\n",
        "df.duplicated(subset = 'user id').sum()"
      ],
      "metadata": {
        "execution": {
          "iopub.status.busy": "2024-08-20T04:58:18.01771Z",
          "iopub.execute_input": "2024-08-20T04:58:18.01832Z",
          "iopub.status.idle": "2024-08-20T04:58:18.054184Z",
          "shell.execute_reply.started": "2024-08-20T04:58:18.018279Z",
          "shell.execute_reply": "2024-08-20T04:58:18.053007Z"
        },
        "trusted": true,
        "id": "oMwEtuiqh62i"
      },
      "execution_count": null,
      "outputs": []
    },
    {
      "cell_type": "code",
      "source": [
        "# unnamed and user id column are of no use in the given analysis, therefore drop any unnecessary column\n",
        "df.drop(['Unnamed: 0','user id'], axis = 1, inplace = True)"
      ],
      "metadata": {
        "execution": {
          "iopub.status.busy": "2024-08-20T05:01:12.63726Z",
          "iopub.execute_input": "2024-08-20T05:01:12.638043Z",
          "iopub.status.idle": "2024-08-20T05:01:12.668224Z",
          "shell.execute_reply.started": "2024-08-20T05:01:12.637975Z",
          "shell.execute_reply": "2024-08-20T05:01:12.666881Z"
        },
        "trusted": true,
        "id": "yjy9tqXBh62i"
      },
      "execution_count": null,
      "outputs": []
    },
    {
      "cell_type": "code",
      "source": [
        "df.columns"
      ],
      "metadata": {
        "execution": {
          "iopub.status.busy": "2024-08-20T05:01:24.476399Z",
          "iopub.execute_input": "2024-08-20T05:01:24.476796Z",
          "iopub.status.idle": "2024-08-20T05:01:24.4851Z",
          "shell.execute_reply.started": "2024-08-20T05:01:24.476767Z",
          "shell.execute_reply": "2024-08-20T05:01:24.483982Z"
        },
        "trusted": true,
        "id": "n2T6bvwUh62j"
      },
      "execution_count": null,
      "outputs": []
    },
    {
      "cell_type": "code",
      "source": [
        "#check if the categorical variables have appropriate number of levels\n",
        "df_cat  = df[['test group','converted','most ads day','most ads hour']]\n",
        "df_cat.nunique()"
      ],
      "metadata": {
        "execution": {
          "iopub.status.busy": "2024-08-20T05:08:12.616943Z",
          "iopub.execute_input": "2024-08-20T05:08:12.617355Z",
          "iopub.status.idle": "2024-08-20T05:08:12.755329Z",
          "shell.execute_reply.started": "2024-08-20T05:08:12.617323Z",
          "shell.execute_reply": "2024-08-20T05:08:12.754246Z"
        },
        "trusted": true,
        "id": "4aHvLlJmh62j"
      },
      "execution_count": null,
      "outputs": []
    },
    {
      "cell_type": "code",
      "source": [
        "#check if the categorical variables have appropriate levels\n",
        "for i in df_cat.columns:\n",
        "    print(i.upper(),df_cat[i].unique())"
      ],
      "metadata": {
        "execution": {
          "iopub.status.busy": "2024-08-20T05:10:28.895988Z",
          "iopub.execute_input": "2024-08-20T05:10:28.896421Z",
          "iopub.status.idle": "2024-08-20T05:10:29.013976Z",
          "shell.execute_reply.started": "2024-08-20T05:10:28.896389Z",
          "shell.execute_reply": "2024-08-20T05:10:29.012372Z"
        },
        "trusted": true,
        "id": "d9f2bkzlh62k"
      },
      "execution_count": null,
      "outputs": []
    },
    {
      "cell_type": "markdown",
      "source": [
        "# UNIVARIATE ANALYSIS"
      ],
      "metadata": {
        "id": "-rbfMCVRh62k"
      }
    },
    {
      "cell_type": "code",
      "source": [
        "variable = 'converted'\n",
        "plt.figure(figsize = (6,4))\n",
        "#counting plot\n",
        "plt.subplot(1,2,1)\n",
        "sns.countplot(x=variable,data=df_cat)\n",
        "plt.title(f'count plot = {variable}')\n",
        "\n",
        "#pie chart\n",
        "plt.subplot(1,2,2)\n",
        "counts = df_cat[variable].value_counts()\n",
        "plt.pie(counts, labels=counts.index, autopct='%0.2f%%')\n",
        "plt.title(f'pie chart = {variable}')\n",
        "\n",
        "#adjusting the layout\n",
        "plt.tight_layout()\n",
        "\n",
        "#show the plots\n",
        "plt.show()"
      ],
      "metadata": {
        "execution": {
          "iopub.status.busy": "2024-08-20T05:25:05.106428Z",
          "iopub.execute_input": "2024-08-20T05:25:05.106839Z",
          "iopub.status.idle": "2024-08-20T05:25:05.651852Z",
          "shell.execute_reply.started": "2024-08-20T05:25:05.106808Z",
          "shell.execute_reply": "2024-08-20T05:25:05.649116Z"
        },
        "trusted": true,
        "id": "9X0MHKnyh62k"
      },
      "execution_count": null,
      "outputs": []
    },
    {
      "cell_type": "code",
      "source": [
        "variable = 'test group'\n",
        "plt.figure(figsize = (6,4))\n",
        "#counting plot\n",
        "plt.subplot(1,2,1)\n",
        "sns.countplot(x=variable,data=df_cat)\n",
        "plt.title(f'count plot = {variable}')\n",
        "\n",
        "#pie chart\n",
        "plt.subplot(1,2,2)\n",
        "counts = df_cat[variable].value_counts()\n",
        "plt.pie(counts, labels=counts.index, autopct='%0.2f%%')\n",
        "plt.title(f'pie chart = {variable}')\n",
        "\n",
        "#adjusting the layout\n",
        "plt.tight_layout()\n",
        "\n",
        "#show the plots\n",
        "plt.show()"
      ],
      "metadata": {
        "execution": {
          "iopub.status.busy": "2024-08-20T05:26:24.489239Z",
          "iopub.execute_input": "2024-08-20T05:26:24.489638Z",
          "iopub.status.idle": "2024-08-20T05:26:25.554831Z",
          "shell.execute_reply.started": "2024-08-20T05:26:24.489606Z",
          "shell.execute_reply": "2024-08-20T05:26:25.553503Z"
        },
        "trusted": true,
        "id": "pqd3lM4Dh62k"
      },
      "execution_count": null,
      "outputs": []
    },
    {
      "cell_type": "code",
      "source": [
        "variable = 'most ads day'\n",
        "plt.figure(figsize = (6,4))\n",
        "#counting plot\n",
        "plt.subplot(1,2,1)\n",
        "sns.countplot(x=variable,data=df_cat,order = df_cat['most ads day'].value_counts().index)\n",
        "plt.title(f'count plot = {variable}')\n",
        "plt.xticks(rotation = 90)\n",
        "\n",
        "#pie chart\n",
        "plt.subplot(1,2,2)\n",
        "counts = df_cat[variable].value_counts()\n",
        "plt.pie(counts, labels=counts.index, autopct='%0.2f%%')\n",
        "plt.title(f'pie chart = {variable}')\n",
        "\n",
        "#adjusting the layout\n",
        "plt.tight_layout()\n",
        "\n",
        "#show plot\n",
        "plt.show()"
      ],
      "metadata": {
        "execution": {
          "iopub.status.busy": "2024-08-20T05:29:41.49771Z",
          "iopub.execute_input": "2024-08-20T05:29:41.498139Z",
          "iopub.status.idle": "2024-08-20T05:29:42.739669Z",
          "shell.execute_reply.started": "2024-08-20T05:29:41.49811Z",
          "shell.execute_reply": "2024-08-20T05:29:42.738236Z"
        },
        "trusted": true,
        "id": "phGZ5GXXh62l"
      },
      "execution_count": null,
      "outputs": []
    },
    {
      "cell_type": "code",
      "source": [
        "variable = 'most ads hour'\n",
        "plt.figure(figsize = (8,4))\n",
        "#counting plot\n",
        "plt.subplot(1,2,1)\n",
        "sns.countplot(x=variable,data=df_cat,order = df_cat['most ads hour'].value_counts().index)\n",
        "plt.title(f'count plot = {variable}')\n",
        "plt.xticks(rotation = 90)\n",
        "\n",
        "#pie chart\n",
        "plt.subplot(1,2,2)\n",
        "counts = df_cat[variable].value_counts()\n",
        "plt.pie(counts, labels=counts.index, autopct='%0.2f%%')\n",
        "plt.title(f'pie chart = {variable}')\n",
        "\n",
        "#adjusting the layout\n",
        "plt.tight_layout()\n",
        "\n",
        "plt.show()"
      ],
      "metadata": {
        "execution": {
          "iopub.status.busy": "2024-08-20T05:32:26.958043Z",
          "iopub.execute_input": "2024-08-20T05:32:26.959329Z",
          "iopub.status.idle": "2024-08-20T05:32:27.829089Z",
          "shell.execute_reply.started": "2024-08-20T05:32:26.959286Z",
          "shell.execute_reply": "2024-08-20T05:32:27.827563Z"
        },
        "trusted": true,
        "id": "D9kF1Hgnh62l"
      },
      "execution_count": null,
      "outputs": []
    },
    {
      "cell_type": "code",
      "source": [
        "variable = 'total ads'\n",
        "plt.figure(figsize = (6,4))\n",
        "#Histogram plot\n",
        "plt.subplot(1,2,1)\n",
        "sns.countplot(x=variable,data=df)\n",
        "plt.title(f'Histogram = {variable}')\n",
        "\n",
        "\n",
        "#box plot\n",
        "plt.subplot(1,2,2)\n",
        "sns.boxplot(y = variable, data = df)\n",
        "plt.title(f'Box plot = {variable}')\n",
        "\n",
        "#adjusting the layout\n",
        "plt.tight_layout()\n",
        "\n",
        "plt.show()"
      ],
      "metadata": {
        "execution": {
          "iopub.status.busy": "2024-08-20T05:39:03.866207Z",
          "iopub.execute_input": "2024-08-20T05:39:03.866587Z",
          "iopub.status.idle": "2024-08-20T05:39:12.150364Z",
          "shell.execute_reply.started": "2024-08-20T05:39:03.866557Z",
          "shell.execute_reply": "2024-08-20T05:39:12.148907Z"
        },
        "trusted": true,
        "id": "E-XoGZR1h62l"
      },
      "execution_count": null,
      "outputs": []
    },
    {
      "cell_type": "code",
      "source": [
        "df['total ads'].describe()"
      ],
      "metadata": {
        "execution": {
          "iopub.status.busy": "2024-08-20T05:45:15.536192Z",
          "iopub.execute_input": "2024-08-20T05:45:15.53742Z",
          "iopub.status.idle": "2024-08-20T05:45:15.573204Z",
          "shell.execute_reply.started": "2024-08-20T05:45:15.537378Z",
          "shell.execute_reply": "2024-08-20T05:45:15.572126Z"
        },
        "trusted": true,
        "id": "Nn9JnfBPh62m"
      },
      "execution_count": null,
      "outputs": []
    },
    {
      "cell_type": "code",
      "source": [
        "variable = 'total ads'\n",
        "plt.figure(figsize = (6,8))\n",
        "#Histogram plot\n",
        "plt.subplot(1,2,1)\n",
        "sns.countplot(y=variable,data=df[df['total ads']< 50])\n",
        "plt.title(f'Histogram = {variable}')\n",
        "#plt.xticks(rotation = 90)\n",
        "\n",
        "#box plot\n",
        "plt.subplot(1,2,2)\n",
        "sns.boxplot(y = variable, data = df[df['total ads']< 50])\n",
        "plt.title(f'Box plot = {variable}')\n",
        "\n",
        "#adjusting the layout\n",
        "plt.tight_layout()\n",
        "plt.show()\n"
      ],
      "metadata": {
        "execution": {
          "iopub.status.busy": "2024-08-20T05:53:15.056243Z",
          "iopub.execute_input": "2024-08-20T05:53:15.056711Z",
          "iopub.status.idle": "2024-08-20T05:53:16.283124Z",
          "shell.execute_reply.started": "2024-08-20T05:53:15.056676Z",
          "shell.execute_reply": "2024-08-20T05:53:16.281867Z"
        },
        "trusted": true,
        "id": "WhWSqNCNh62m"
      },
      "execution_count": null,
      "outputs": []
    },
    {
      "cell_type": "markdown",
      "source": [
        "# BIVARIATE ANALYSIS"
      ],
      "metadata": {
        "id": "nnhuzxmah62m"
      }
    },
    {
      "cell_type": "code",
      "source": [
        "ct_conversion_test_group = pd.crosstab(df['test group'], df['converted'], normalize = 'index')\n",
        "ct_conversion_test_group"
      ],
      "metadata": {
        "execution": {
          "iopub.status.busy": "2024-08-20T05:59:44.837025Z",
          "iopub.execute_input": "2024-08-20T05:59:44.837588Z",
          "iopub.status.idle": "2024-08-20T05:59:44.969779Z",
          "shell.execute_reply.started": "2024-08-20T05:59:44.837544Z",
          "shell.execute_reply": "2024-08-20T05:59:44.968412Z"
        },
        "trusted": true,
        "id": "qm0rybwkh62n"
      },
      "execution_count": null,
      "outputs": []
    },
    {
      "cell_type": "code",
      "source": [
        "ct_conversion_test_group.plot.bar(stacked = True)"
      ],
      "metadata": {
        "execution": {
          "iopub.status.busy": "2024-08-20T06:00:22.936143Z",
          "iopub.execute_input": "2024-08-20T06:00:22.936561Z",
          "iopub.status.idle": "2024-08-20T06:00:23.263836Z",
          "shell.execute_reply.started": "2024-08-20T06:00:22.936529Z",
          "shell.execute_reply": "2024-08-20T06:00:23.262463Z"
        },
        "trusted": true,
        "id": "5ERdtoo_h62o"
      },
      "execution_count": null,
      "outputs": []
    },
    {
      "cell_type": "code",
      "source": [
        "ct_conversion_day = pd.crosstab(df['most ads day'], df['converted'], normalize = 'index')\n",
        "print(ct_conversion_day.sort_values(by = True, ascending = False))\n",
        "ct_conversion_day.plot.bar(stacked =  True)"
      ],
      "metadata": {
        "execution": {
          "iopub.status.busy": "2024-08-20T06:04:02.985021Z",
          "iopub.execute_input": "2024-08-20T06:04:02.985433Z",
          "iopub.status.idle": "2024-08-20T06:04:03.496617Z",
          "shell.execute_reply.started": "2024-08-20T06:04:02.985401Z",
          "shell.execute_reply": "2024-08-20T06:04:03.495345Z"
        },
        "trusted": true,
        "id": "DgK3Labph62o"
      },
      "execution_count": null,
      "outputs": []
    },
    {
      "cell_type": "code",
      "source": [
        "ct_conversion_day = pd.crosstab(df['most ads hour'], df['converted'], normalize = 'index')\n",
        "print(ct_conversion_day.sort_values(by = True, ascending = False))\n",
        "ct_conversion_day.plot.bar(stacked =  True)"
      ],
      "metadata": {
        "execution": {
          "iopub.status.busy": "2024-08-20T06:04:49.93612Z",
          "iopub.execute_input": "2024-08-20T06:04:49.936524Z",
          "iopub.status.idle": "2024-08-20T06:04:51.301173Z",
          "shell.execute_reply.started": "2024-08-20T06:04:49.936492Z",
          "shell.execute_reply": "2024-08-20T06:04:51.29984Z"
        },
        "trusted": true,
        "id": "N017qHONh62p"
      },
      "execution_count": null,
      "outputs": []
    },
    {
      "cell_type": "code",
      "source": [
        "sns.boxplot(x = 'converted', y = 'total ads', data = df[df['total ads']<50])"
      ],
      "metadata": {
        "execution": {
          "iopub.status.busy": "2024-08-20T06:09:40.4452Z",
          "iopub.execute_input": "2024-08-20T06:09:40.445609Z",
          "iopub.status.idle": "2024-08-20T06:09:40.774785Z",
          "shell.execute_reply.started": "2024-08-20T06:09:40.445575Z",
          "shell.execute_reply": "2024-08-20T06:09:40.773713Z"
        },
        "trusted": true,
        "id": "7PL2VRqqh62p"
      },
      "execution_count": null,
      "outputs": []
    },
    {
      "cell_type": "markdown",
      "source": [
        "# STATISTICAL TESTS"
      ],
      "metadata": {
        "id": "3Wb144wUh62p"
      }
    },
    {
      "cell_type": "code",
      "source": [
        "from scipy.stats import chi2_contingency\n",
        "alpha = 0.05\n",
        "\n",
        "for variable in df_cat.columns:\n",
        "    if variable != 'converted':\n",
        "        contingency_table = pd.crosstab(df_cat[variable], df_cat['converted'])\n",
        "\n",
        "        # Perform chi-squared test\n",
        "        chi2, p, _, _ = chi2_contingency(contingency_table)\n",
        "\n",
        "        # Display the merits\n",
        "        print(f\"\\n chi squared test for {variable} vs. converted\")\n",
        "        print(f\"chi squared value : {chi2}\")\n",
        "        print(f\"p-value: {p}\")\n",
        "\n",
        "        # Check for significance\n",
        "        if p < alpha:\n",
        "            print(f\"the difference in conversion rates for {variable} is statistically significant\")\n",
        "        else:\n",
        "            print(f\"there is no significant difference in conversion across {variable}\")"
      ],
      "metadata": {
        "execution": {
          "iopub.status.busy": "2024-08-20T06:39:11.466582Z",
          "iopub.execute_input": "2024-08-20T06:39:11.466978Z",
          "iopub.status.idle": "2024-08-20T06:39:11.792076Z",
          "shell.execute_reply.started": "2024-08-20T06:39:11.466947Z",
          "shell.execute_reply": "2024-08-20T06:39:11.790807Z"
        },
        "trusted": true,
        "id": "ibQi0fqeh62p"
      },
      "execution_count": null,
      "outputs": []
    },
    {
      "cell_type": "code",
      "source": [
        "df_cat.columns"
      ],
      "metadata": {
        "execution": {
          "iopub.status.busy": "2024-08-20T06:40:28.676026Z",
          "iopub.execute_input": "2024-08-20T06:40:28.676411Z",
          "iopub.status.idle": "2024-08-20T06:40:28.684372Z",
          "shell.execute_reply.started": "2024-08-20T06:40:28.676382Z",
          "shell.execute_reply": "2024-08-20T06:40:28.682903Z"
        },
        "trusted": true,
        "id": "KGvivF9ph62q"
      },
      "execution_count": null,
      "outputs": []
    },
    {
      "cell_type": "code",
      "source": [
        "from scipy.stats import shapiro, levene, ttest_ind, mannwhitneyu\n",
        "shapiro_stat_true, shapiro_p_value_true = shapiro(df[df['converted'] == True]['total ads'])\n",
        "shapiro_stat_false, shapiro_p_value_false = shapiro(df[df['converted'] == False]['total ads'])\n",
        "print(f\"shapiro-wilk test for normality true: p-value = {shapiro_p_value_true}\")\n",
        "print(f\"shapiro-wilk test for normality false: p-value = {shapiro_p_value_false}\")\n",
        "\n",
        "levene_stat, levene_p_val = levene(df[df['converted']]['total ads'], df[~df['converted']]['total ads'])\n",
        "print(f\"levene test for equality of variances : p-value = {levene_p_val}\")\n",
        "\n"
      ],
      "metadata": {
        "execution": {
          "iopub.status.busy": "2024-08-20T06:51:15.989147Z",
          "iopub.execute_input": "2024-08-20T06:51:15.989553Z",
          "iopub.status.idle": "2024-08-20T06:51:16.135494Z",
          "shell.execute_reply.started": "2024-08-20T06:51:15.989522Z",
          "shell.execute_reply": "2024-08-20T06:51:16.134336Z"
        },
        "trusted": true,
        "id": "WOoVDfr1h62q"
      },
      "execution_count": null,
      "outputs": []
    },
    {
      "cell_type": "code",
      "source": [
        "#correcting the previous tests\n",
        "alpha = 0.05\n",
        "if shapiro_p_value_true > alpha and shapiro_p_value_false >alpha and levene_p_val > alpha:\n",
        "    t_st, t_p_val =ttest_ind(df[df['converted']]['total ads'], df[~df['converted']]['total ads'])\n",
        "    print(f\"independent two sample t-test : p-value ={t_p_val}\")\n",
        "else:\n",
        "    u_st, u_p_val = mannwhitneyu(df[df['converted']]['total ads'],df[~df['converted']]['total ads'])\n",
        "    print(f\"mannwhitney u test : p-value ={u_p_val}\")\n",
        "\n"
      ],
      "metadata": {
        "execution": {
          "iopub.status.busy": "2024-08-20T07:05:12.930941Z",
          "iopub.execute_input": "2024-08-20T07:05:12.931386Z",
          "iopub.status.idle": "2024-08-20T07:05:14.103894Z",
          "shell.execute_reply.started": "2024-08-20T07:05:12.931352Z",
          "shell.execute_reply": "2024-08-20T07:05:14.102465Z"
        },
        "trusted": true,
        "id": "RfaIaVich62q"
      },
      "execution_count": null,
      "outputs": []
    },
    {
      "cell_type": "markdown",
      "source": [
        "> **If the Mann-Whitney U test also shows a p-value of 0.0, it indicates a statistically significant difference between the medians of the two groups.\n",
        "\n",
        "In the context of the data, this means there is strong evidence suggesting that the median number of \"total ads\" for the \"converted\" group is significantly different from the median number of \"total ads\" for the \"not converted\" group.\n",
        "\n",
        "**"
      ],
      "metadata": {
        "id": "dyTjjouBh62q"
      }
    },
    {
      "cell_type": "markdown",
      "source": [
        "> # ** THE ADVERTISEMENTS WERE NOT SUCCESFULL IN REACHING OUT TO THE PEOPLE.**"
      ],
      "metadata": {
        "id": "-7vYSHE0h62q"
      }
    },
    {
      "cell_type": "code",
      "source": [],
      "metadata": {
        "id": "0iG2Qo4ch62r"
      },
      "execution_count": null,
      "outputs": []
    },
    {
      "cell_type": "markdown",
      "source": [],
      "metadata": {
        "id": "P5Xai-JVh62r"
      }
    }
  ]
}